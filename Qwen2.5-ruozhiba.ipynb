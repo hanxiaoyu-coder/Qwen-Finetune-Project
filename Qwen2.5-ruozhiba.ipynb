{
 "cells": [
  {
   "cell_type": "code",
   "execution_count": 35,
   "id": "d55c4a2c-ee33-40b3-adbf-ddbcb5f5715b",
   "metadata": {},
   "outputs": [
    {
     "name": "stdout",
     "output_type": "stream",
     "text": [
      "==((====))==  Unsloth 2025.6.2: Fast Qwen2 patching. Transformers: 4.51.3.\n",
      "   \\\\   /|    NVIDIA GeForce RTX 4090. Num GPUs = 1. Max memory: 23.542 GB. Platform: Linux.\n",
      "O^O/ \\_/ \\    Torch: 2.4.1+cu121. CUDA: 8.9. CUDA Toolkit: 12.1. Triton: 3.0.0\n",
      "\\        /    Bfloat16 = TRUE. FA [Xformers = 0.0.28.post1. FA2 = True]\n",
      " \"-____-\"     Free license: http://github.com/unslothai/unsloth\n",
      "Unsloth: Fast downloading is enabled - ignore downloading bars which are red colored!\n"
     ]
    }
   ],
   "source": [
    "from unsloth import FastLanguageModel\n",
    "import torch\n",
    "\n",
    "max_seq_length = 2048 # 选择任意值！我们内部会自动支持RoPE Scaling！\n",
    "dtype = None # None表示自动检测。Tesla T4、V100使用Float16，Ampere+使用Bfloat16\n",
    "load_in_4bit = True # 使用4比特量化以减少内存使用。可以设置为False。\n",
    "\n",
    "# 我们支持的4比特预量化模型，下载速度快4倍 + 不会OOM（内存不足）。\n",
    "fourbit_models = [\n",
    "    \"unsloth/Meta-Llama-3.1-8B-bnb-4bit\",        # Llama-3.1 15万亿token模型，速度快2倍！\n",
    "    \"unsloth/Meta-Llama-3.1-8B-Instruct-bnb-4bt\",\n",
    "    \"unsloth/Meta-Llama-3.1-70B-bnb-4bit\",\n",
    "    \"unsloth/Meta-Llama-3.1-405B-bnb-4bit\",      # 我们也上传了405B的4比特模型！\n",
    "    \"unsloth/Mistral-Nemo-Base-2407-bnb-4bit\", # 新的Mistral 12b模型，速度快2倍！\n",
    "    \"unsloth/Mistral-Nemo-Instruct-2407-bnb-4bit\",\n",
    "    \"unsloth/mistral-7b-v0.3-bnb-4bit\",          # Mistral v3，速度快2倍！\n",
    "    \"unsloth/mistral-7b-instruct-v0.3-bnb-4bit\",\n",
    "    \"unsloth/Phi-3.5-mini-instruct\",             # Phi-3.5，速度快2倍！\n",
    "    \"unsloth/Phi-3-medium-4k-instruct\",\n",
    "    \"unsloth/gemma-2-9b-bnb-4bit\",\n",
    "    \"unsloth/gemma-2-27b-bnb-4bit\",              # Gemma 2，速度快2倍！\n",
    "] # 更多模型请访问 https://huggingface.co/unsloth\n",
    "\n",
    "\n",
    "dtype = torch.bfloat16 # 对于Ampere+ GPU\n",
    "# load_in_4bit = True # 保持不变\n",
    "\n",
    "model, tokenizer = FastLanguageModel.from_pretrained(\n",
    "    model_name = \"unsloth/Qwen2.5-0.5B-bnb-4bit\",\n",
    "    max_seq_length = max_seq_length,\n",
    "    dtype = dtype,\n",
    "    load_in_4bit = load_in_4bit,\n",
    "\n",
    "    # token = \"hf_...\", # 如果使用像meta-llama/Llama-2-7b-hf这样的门控模型，请使用此参数\n",
    ")\n"
   ]
  },
  {
   "cell_type": "code",
   "execution_count": 36,
   "id": "ea5cf64b-7ad4-4c73-84b6-e29b0f66a785",
   "metadata": {},
   "outputs": [
    {
     "name": "stdout",
     "output_type": "stream",
     "text": [
      "a\n"
     ]
    }
   ],
   "source": [
    "print('a')"
   ]
  },
  {
   "cell_type": "code",
   "execution_count": 37,
   "id": "0799b052-6522-4d9e-b200-36cb64e449d1",
   "metadata": {},
   "outputs": [],
   "source": [
    "model = FastLanguageModel.get_peft_model(\n",
    "    model,\n",
    "    r = 16, # LoRA 的秩 (rank)。选择任何大于0的数字！建议值有 8, 16, 32, 64, 128\n",
    "    target_modules = [\"q_proj\", \"k_proj\", \"v_proj\", \"o_proj\",\n",
    "                      \"gate_proj\", \"up_proj\", \"down_proj\",], # 指定要应用 LoRA 的模型层。这些通常是Attention和MLP中的线性投影层。\n",
    "    lora_alpha = 16, # LoRA 的缩放因子。通常设置为与 r 相同的值。\n",
    "    lora_dropout = 0, # LoRA 层的 dropout 比例。支持任何值，但设置为 0 是最优化的。\n",
    "    bias = \"none\",    # LoRA 层的偏置类型。支持任何类型，但设置为 \"none\" 是最优化的。\n",
    "    # [NEW] \"unsloth\" 模式可以减少 30% 的显存使用，并支持 2 倍大的批处理大小！\n",
    "    use_gradient_checkpointing = \"unsloth\", # 是否使用梯度检查点以节省显存。设置为 True 或 \"unsloth\" 适用于非常长的上下文。\n",
    "    random_state = 3407, # 用于初始化的随机种子，确保结果可复现。\n",
    "    use_rslora = False,   # 是否使用 Rank Stabilized LoRA (rSLORA)。我们支持这个特性。\n",
    "    loftq_config = None, # LoftQ 配置。我们支持 LoftQ 量化。\n",
    ")"
   ]
  },
  {
   "cell_type": "code",
   "execution_count": 38,
   "id": "098b5ce1-8bb0-48e8-b347-011d1fdb5484",
   "metadata": {},
   "outputs": [
    {
     "name": "stdout",
     "output_type": "stream",
     "text": [
      "正在切分数据集...\n",
      "\n",
      "数据集切分完成！\n",
      "训练集大小: 3267\n",
      "验证集大小: 172\n",
      "训练集的列名是: ['raw', 'instruction', 'thought', 'output']\n",
      "\n",
      "正在格式化训练集...\n",
      "正在格式化验证集...\n",
      "\n",
      "数据处理全部完成！\n"
     ]
    }
   ],
   "source": [
    "# ----------------- 1. 定义数据格式化功能 -----------------\n",
    "from datasets import load_dataset\n",
    "\n",
    "# Alpaca 格式的提示模板。这个模板定义了如何组织指令、输入和响应来构建模型的训练数据。\n",
    "# The alpaca_prompt template defines how to combine data into a full prompt.\n",
    "alpaca_prompt = \"\"\"Below is an instruction that describes a task, paired with an input that provides further context. Write a response that appropriately completes the request.\n",
    "\n",
    "### Instruction:\n",
    "{}\n",
    "\n",
    "### Input:\n",
    "{}\n",
    "\n",
    "### Response:\n",
    "{}\"\"\"\n",
    "\n",
    "# 模型的结束标记。在训练时，必须将此标记添加到每个训练样本的末尾，否则模型可能会无限生成文本。\n",
    "# The End-Of-Sequence token must be added to the end of each training sample.\n",
    "EOS_TOKEN = tokenizer.eos_token # 必须添加 EOS_TOKEN (End Of Sentence Token)\n",
    "\n",
    "# 这是一个用于格式化数据集样本的函数。\n",
    "# This is a function to format the dataset samples.\n",
    "# 找到第5个单元格中的这个函数\n",
    "def formatting_prompts_func(examples):\n",
    "    # 原来的代码只使用了两列\n",
    "    # instructions = examples[\"INSTRUCTION\"]\n",
    "    # outputs      = examples[\"RESPONSE\"]\n",
    "    \n",
    "    # 修改后：同时获取 summary, think, content三列\n",
    "    instructions = examples[\"instruction\"]\n",
    "    inputs       = [\"\"] * len(instructions) # 输入部分通常留空\n",
    "    thoughts     = examples[\"thought\"]        # 获取思考过程\n",
    "    contents     = examples[\"output\"]      # 获取最终的笑话内容\n",
    "    \n",
    "    texts = []\n",
    "    # 同时遍历指令、输入、思考和内容\n",
    "    for instruction, input_text, thought, content in zip(instructions, inputs, thoughts, contents):\n",
    "        # 核心：将思考过程和最终回答组合成一个完整的输出\n",
    "        # 我们用明确的标签\"思考：\"和\"回答：\"来引导模型学习这种格式\n",
    "        output = f\"思考：{thought}\\n\\n回答：{content}\"\n",
    "        \n",
    "        # 使用Alpaca模板填充，并将组合后的output填入Response部分\n",
    "        text = alpaca_prompt.format(instruction, input_text, output) + EOS_TOKEN\n",
    "        texts.append(text)\n",
    "        \n",
    "    return { \"text\" : texts, }\n",
    "\n",
    "# ... 对 train_dataset 和 eval_dataset 的 .map(formatting_prompts_func, ...) 调用保持不变\n",
    "\n",
    "# ----------------- 2. 加载并准备数据集 -----------------\n",
    "\n",
    "# 1. 加载完整的数据集\n",
    "\n",
    "full_dataset = load_dataset(\"LooksJuicy/ruozhiba-punchline\", split=\"train\")\n",
    "\n",
    "# 2. 将其切分为训练集和验证集 (95% 训练, 5% 验证)\n",
    "# Split it into a training and an evaluation set (95% train, 5% eval)\n",
    "# test_size=0.05 means 5% of the data will be used for the test set.\n",
    "# seed=42 ensures that the split is the same every time, for reproducibility.\n",
    "print(\"正在切分数据集...\")\n",
    "split_dataset = full_dataset.train_test_split(test_size=0.05, seed=42)\n",
    "\n",
    "# 3. 分别获取训练集和验证集\n",
    "# Get the training and evaluation sets respectively.\n",
    "train_dataset = split_dataset['train']\n",
    "# .train_test_split names the split part 'test' by default.\n",
    "eval_dataset = split_dataset['test'] \n",
    "\n",
    "print(f\"\\n数据集切分完成！\")\n",
    "print(f\"训练集大小: {len(train_dataset)}\")\n",
    "print(f\"验证集大小: {len(eval_dataset)}\")\n",
    "\n",
    "# 打印列名以确认\n",
    "print(\"训练集的列名是:\", train_dataset.column_names)\n",
    "\n",
    "# ----------------- 3. 格式化数据集 -----------------\n",
    "\n",
    "print(\"\\n正在格式化训练集...\")\n",
    "train_dataset = train_dataset.map(\n",
    "    formatting_prompts_func,\n",
    "    batched = True,\n",
    ")\n",
    "\n",
    "print(\"正在格式化验证集...\")\n",
    "eval_dataset = eval_dataset.map(\n",
    "    formatting_prompts_func,\n",
    "    batched = True,\n",
    ")\n",
    "\n",
    "print(\"\\n数据处理全部完成！\")\n",
    "\n",
    "\n",
    "\n",
    "\n"
   ]
  },
  {
   "cell_type": "code",
   "execution_count": 39,
   "id": "72356936-88f1-4f77-baa5-b8e7e7c2ec58",
   "metadata": {},
   "outputs": [],
   "source": [
    "import os\n",
    "from trl import SFTTrainer\n",
    "from transformers import TrainingArguments\n",
    "from unsloth import is_bfloat16_supported\n",
    "\n",
    "# 设置W&B环境变量以修复错误并更好地组织运行\n",
    "os.environ[\"WANDB_PROJECT\"] = \"Qwen2-Finetune\"\n",
    "os.environ[\"WANDB_LOG_MODEL\"] = \"checkpoint\"\n",
    "os.environ[\"WANDB_NOTEBOOK_NAME\"] = \"Qwen2.5-weitiaoban.ipynb\"\n",
    "\n",
    "# 初始化 SFTTrainer 进行监督微调 (Supervised Fine-Tuning)\n",
    "trainer = SFTTrainer(\n",
    "    model = model,\n",
    "    tokenizer = tokenizer,\n",
    "    train_dataset = train_dataset,\n",
    "    eval_dataset = eval_dataset,\n",
    "    dataset_text_field = \"text\",\n",
    "    max_seq_length = max_seq_length,\n",
    "    # --- 关键修改 1: 增加数据处理的进程数 ---\n",
    "    dataset_num_proc = 8,  # [!code ++] 将数据预处理的CPU进程数从2增加到8 (您可以根据您CPU的核心数调整)\n",
    "    packing = True,\n",
    "    args = TrainingArguments(\n",
    "        # --- 关键修改 2: 开启内存锁定 ---\n",
    "        dataloader_pin_memory = True, # [!code ++] 加速数据从CPU到GPU的传输\n",
    "        \n",
    "        per_device_train_batch_size = 16,\n",
    "        gradient_accumulation_steps = 4,\n",
    "        warmup_steps = 100,\n",
    "        #max_steps = 1000,\n",
    "        num_train_epochs = 10, # 如果设置了max_steps，此参数会被覆盖。注释掉以备用。\n",
    "        eval_strategy = \"steps\",\n",
    "        eval_steps = 100,\n",
    "        save_steps = 200,\n",
    "        load_best_model_at_end = True,\n",
    "        learning_rate = 2e-4,\n",
    "        fp16 = not is_bfloat16_supported(),\n",
    "        bf16 = is_bfloat16_supported(),\n",
    "        logging_steps = 10,\n",
    "        optim = \"adamw_8bit\",\n",
    "        weight_decay = 0.01,\n",
    "        lr_scheduler_type = \"linear\",\n",
    "        seed = 1234,\n",
    "        output_dir = \"outputs\",\n",
    "        report_to = \"wandb\",\n",
    "        run_name = \"qwen2.5-optimized\", # 更新一下运行名称\n",
    "    ),\n",
    ")\n"
   ]
  },
  {
   "cell_type": "code",
   "execution_count": 40,
   "id": "9597ca6d-34c8-41d2-bee4-f2e1d6a57708",
   "metadata": {},
   "outputs": [
    {
     "name": "stdout",
     "output_type": "stream",
     "text": [
      "GPU = NVIDIA GeForce RTX 4090. Max memory = 23.542 GB.\n",
      "1.252 GB of memory reserved.\n"
     ]
    }
   ],
   "source": [
    "# @title Show current memory stats\n",
    "gpu_stats = torch.cuda.get_device_properties(0)\n",
    "start_gpu_memory = round(torch.cuda.max_memory_reserved() / 1024 / 1024 / 1024, 3)\n",
    "max_memory = round(gpu_stats.total_memory / 1024 / 1024 / 1024, 3)\n",
    "print(f\"GPU = {gpu_stats.name}. Max memory = {max_memory} GB.\")\n",
    "print(f\"{start_gpu_memory} GB of memory reserved.\")"
   ]
  },
  {
   "cell_type": "code",
   "execution_count": 41,
   "id": "c4ee52ae-5a2c-42f3-9995-a5ad66acc13f",
   "metadata": {},
   "outputs": [
    {
     "name": "stderr",
     "output_type": "stream",
     "text": [
      "==((====))==  Unsloth - 2x faster free finetuning | Num GPUs used = 1\n",
      "   \\\\   /|    Num examples = 3,267 | Num Epochs = 10 | Total steps = 510\n",
      "O^O/ \\_/ \\    Batch size per device = 16 | Gradient accumulation steps = 4\n",
      "\\        /    Data Parallel GPUs = 1 | Total batch size (16 x 4 x 1) = 64\n",
      " \"-____-\"     Trainable parameters = 8,798,208/500,000,000 (1.76% trained)\n"
     ]
    },
    {
     "data": {
      "text/html": [
       "\n",
       "    <div>\n",
       "      \n",
       "      <progress value='510' max='510' style='width:300px; height:20px; vertical-align: middle;'></progress>\n",
       "      [510/510 07:10, Epoch 9/10]\n",
       "    </div>\n",
       "    <table border=\"1\" class=\"dataframe\">\n",
       "  <thead>\n",
       " <tr style=\"text-align: left;\">\n",
       "      <th>Step</th>\n",
       "      <th>Training Loss</th>\n",
       "      <th>Validation Loss</th>\n",
       "    </tr>\n",
       "  </thead>\n",
       "  <tbody>\n",
       "    <tr>\n",
       "      <td>100</td>\n",
       "      <td>1.473700</td>\n",
       "      <td>1.481495</td>\n",
       "    </tr>\n",
       "    <tr>\n",
       "      <td>200</td>\n",
       "      <td>1.293900</td>\n",
       "      <td>1.410602</td>\n",
       "    </tr>\n",
       "    <tr>\n",
       "      <td>300</td>\n",
       "      <td>1.164600</td>\n",
       "      <td>1.417495</td>\n",
       "    </tr>\n",
       "    <tr>\n",
       "      <td>400</td>\n",
       "      <td>1.045300</td>\n",
       "      <td>1.452323</td>\n",
       "    </tr>\n",
       "    <tr>\n",
       "      <td>500</td>\n",
       "      <td>0.974600</td>\n",
       "      <td>1.489789</td>\n",
       "    </tr>\n",
       "  </tbody>\n",
       "</table><p>"
      ],
      "text/plain": [
       "<IPython.core.display.HTML object>"
      ]
     },
     "metadata": {},
     "output_type": "display_data"
    },
    {
     "name": "stderr",
     "output_type": "stream",
     "text": [
      "\u001b[34m\u001b[1mwandb\u001b[0m: Adding directory to artifact (./outputs/checkpoint-200)... Done. 0.2s\n",
      "\u001b[34m\u001b[1mwandb\u001b[0m: Adding directory to artifact (./outputs/checkpoint-400)... Done. 0.2s\n",
      "\u001b[34m\u001b[1mwandb\u001b[0m: Adding directory to artifact (./outputs/checkpoint-510)... Done. 0.2s\n"
     ]
    }
   ],
   "source": [
    "trainer_stats = trainer.train()"
   ]
  },
  {
   "cell_type": "code",
   "execution_count": 42,
   "id": "25d886c6-a5ce-463b-9efc-b25b34125e7c",
   "metadata": {},
   "outputs": [
    {
     "name": "stdout",
     "output_type": "stream",
     "text": [
      "430.5363 秒用于训练。\n",
      "7.18 分钟用于训练。\n",
      "峰值预留显存 = 1.252 GB。\n",
      "用于训练的峰值预留显存 = 0.0 GB。\n",
      "峰值预留显存占最大显存的百分比 = 5.318 %。\n",
      "用于训练的峰值预留显存占最大显存的百分比 = 0.0 %。\n"
     ]
    }
   ],
   "source": [
    "# @title 显示最终内存和时间统计\n",
    "# 计算模型训练期间峰值预留显存（以GB为单位）\n",
    "used_memory = round(torch.cuda.max_memory_reserved() / 1024 / 1024 / 1024, 3)\n",
    "# 计算仅用于LoRA训练的峰值预留显存（从总峰值中减去训练开始前的显存）\n",
    "used_memory_for_lora = round(used_memory - start_gpu_memory, 3)\n",
    "# 计算峰值预留显存占总显存的百分比\n",
    "used_percentage = round(used_memory / max_memory * 100, 3)\n",
    "# 计算仅用于LoRA训练的峰值预留显存占总显存的百分比\n",
    "lora_percentage = round(used_memory_for_lora / max_memory * 100, 3)\n",
    "\n",
    "# 打印训练运行时长（秒）\n",
    "print(f\"{trainer_stats.metrics['train_runtime']} 秒用于训练。\")\n",
    "# 打印训练运行时长（分钟）\n",
    "print(\n",
    "    f\"{round(trainer_stats.metrics['train_runtime']/60, 2)} 分钟用于训练。\"\n",
    ")\n",
    "# 打印峰值预留显存量（GB）\n",
    "print(f\"峰值预留显存 = {used_memory} GB。\")\n",
    "# 打印仅用于训练的峰值预留显存量（GB）\n",
    "print(f\"用于训练的峰值预留显存 = {used_memory_for_lora} GB。\")\n",
    "# 打印峰值预留显存占最大可用显存的百分比\n",
    "print(f\"峰值预留显存占最大显存的百分比 = {used_percentage} %。\")\n",
    "# 打印仅用于训练的峰值预留显存占最大可用显存的百分比\n",
    "print(f\"用于训练的峰值预留显存占最大显存的百分比 = {lora_percentage} %。\")\n"
   ]
  },
  {
   "cell_type": "code",
   "execution_count": 45,
   "id": "e525c9ef-9900-4e64-b871-884b63d10307",
   "metadata": {},
   "outputs": [
    {
     "data": {
      "text/plain": [
       "['Below is an instruction that describes a task, paired with an input that provides further context. Write a response that appropriately completes the request.\\n\\n### Instruction:\\n望远镜可以看见地球吗\\n\\n### Input:\\n\\n\\n### Response:\\n思考：可以通过夸张和讽刺的手法来制造笑点。望远镜是用来看远处的，而地球是地球，望远镜只能看到地球的表面，所以望远镜只能看见地球的表面。这里将望远镜的这种局限性夸张化，形象地描绘了望远镜的局限性。\\n\\n回答：望远镜只能看见地球的表面<|endoftext|>']"
      ]
     },
     "execution_count": 45,
     "metadata": {},
     "output_type": "execute_result"
    }
   ],
   "source": [
    "# alpaca_prompt = Copied from above # alpaca_prompt 变量从之前的代码中复制而来 (这里假设它已经定义)\n",
    "\n",
    "# 启用模型以进行原生2倍更快的推理。这会优化模型以进行生成，可能禁用一些训练相关的特性。\n",
    "FastLanguageModel.for_inference(model)\n",
    "\n",
    "# 使用 tokenizer 处理输入。\n",
    "inputs = tokenizer(\n",
    "[\n",
    "    # 使用之前定义的 alpaca_prompt 模板来格式化输入。\n",
    "    alpaca_prompt.format(\n",
    "        \"望远镜可以看见地球吗\", # instruction: 任务指令\n",
    "        \"\", # input: 提供给模型的输入或上下文，这里是斐波那契数列的前几项。\n",
    "        \"\", # output: 生成时此字段留空。模型会根据 instruction 和 input 来生成 output。\n",
    "    )\n",
    "],\n",
    "return_tensors = \"pt\" # 指定返回 PyTorch 张量。\n",
    ").to(\"cuda\") # 将输入张量移动到 CUDA 设备（GPU）上。\n",
    "\n",
    "# 使用模型生成文本。\n",
    "outputs = model.generate(\n",
    "    **inputs, # 将处理后的输入张量作为关键字参数传递给 generate 方法。\n",
    "    max_new_tokens = 128, # 限制模型生成的新 token 的最大数量为 64。\n",
    "    use_cache = True # 启用 KV 缓存，可以加速重复生成（例如在逐个 token 生成时）。\n",
    ")\n",
    "\n",
    "# 使用 tokenizer 将生成的 token ID 列表解码回人类可读的文本。\n",
    "tokenizer.batch_decode(outputs)\n"
   ]
  },
  {
   "cell_type": "code",
   "execution_count": 46,
   "id": "da5dd3cb-33db-4205-bf07-03f09dbc947a",
   "metadata": {},
   "outputs": [
    {
     "data": {
      "text/plain": [
       "('lora_model/tokenizer_config.json',\n",
       " 'lora_model/special_tokens_map.json',\n",
       " 'lora_model/vocab.json',\n",
       " 'lora_model/merges.txt',\n",
       " 'lora_model/added_tokens.json',\n",
       " 'lora_model/tokenizer.json')"
      ]
     },
     "execution_count": 46,
     "metadata": {},
     "output_type": "execute_result"
    }
   ],
   "source": [
    "model.save_pretrained(\"lora_model\")  # Local saving\n",
    "tokenizer.save_pretrained(\"lora_model\")\n",
    "# model.push_to_hub(\"your_name/lora_model\", token = \"...\") # Online saving\n",
    "# tokenizer.push_to_hub(\"your_name/lora_model\", token = \"...\") # Online saving"
   ]
  },
  {
   "cell_type": "code",
   "execution_count": 51,
   "id": "183f0b79-dae6-49dc-974e-7a47077b7f6a",
   "metadata": {},
   "outputs": [
    {
     "name": "stdout",
     "output_type": "stream",
     "text": [
      "Below is an instruction that describes a task, paired with an input that provides further context. Write a response that appropriately completes the request.\n",
      "\n",
      "### Instruction:\n",
      "装6000的电脑要花多少钱\n",
      "\n",
      "### Input:\n",
      "\n",
      "\n",
      "### Response:\n",
      "思考：可以通过夸张和讽刺的手法来制造笑点。通常我们都知道装6000的电脑是需要花费大量的钱，但是这里却用了一个非常夸张的表述，即“装6000的电脑，需要100000000000000000000000000000000000000000000000000000000000000000000000000000\n"
     ]
    }
   ],
   "source": [
    "# 这个 `if False:` 块意味着其中的代码当前不会被执行。\n",
    "# 但它展示了如何加载一个已经微调过的模型（例如，保存为 \"lora_model\"）以进行推理。\n",
    "if False:\n",
    "    from unsloth import FastLanguageModel\n",
    "    model, tokenizer = FastLanguageModel.from_pretrained(\n",
    "        model_name = \"lora_model\", # 你用于训练的模型名称，这里是示例模型路径\n",
    "        max_seq_length = max_seq_length, # 最大序列长度，与训练时保持一致\n",
    "        dtype = dtype, # 数据类型，与训练时保持一致（例如：torch.bfloat16 或 torch.float16）\n",
    "        load_in_4bit = load_in_4bit, # 是否以4比特量化加载模型，与训练时保持一致\n",
    "    )\n",
    "    # 启用模型以进行原生2倍更快的推理。这会优化模型以进行生成，可能禁用一些训练相关的特性。\n",
    "    FastLanguageModel.for_inference(model)\n",
    "\n",
    "# alpaca_prompt = You MUST copy from above! # 这里假设 `alpaca_prompt` 变量已在之前的代码中定义并复制到此处。\n",
    "\n",
    "# 使用 tokenizer 处理输入。\n",
    "inputs = tokenizer(\n",
    "[\n",
    "    # 使用之前定义的 `alpaca_prompt` 模板来格式化输入。\n",
    "    alpaca_prompt.format(\n",
    "        \"装6000的电脑要花多少钱\", # instruction: 任务指令\n",
    "        \"\", # input: 提供给模型的输入或上下文，这里留空。\n",
    "        \"\", # output: 生成时此字段必须留空。模型会根据 instruction 和 input 来生成 output。\n",
    "    )\n",
    "],\n",
    "return_tensors = \"pt\" # 指定返回 PyTorch 张量。\n",
    ").to(\"cuda\") # 将输入张量移动到 CUDA 设备（GPU）上。\n",
    "\n",
    "from transformers import TextStreamer\n",
    "# 初始化 TextStreamer。它会将 tokenizer 用于解码生成的 token 并实时打印到控制台。\n",
    "text_streamer = TextStreamer(tokenizer)\n",
    "\n",
    "# 使用模型生成文本。\n",
    "# **inputs 解包输入张量。\n",
    "# streamer = text_streamer 将 TextStreamer 对象传递给 generate 方法，使得生成过程中的 token 可以实时流式输出。\n",
    "# max_new_tokens = 128 限制模型生成的新 token 的最大数量为 128。\n",
    "# `_ = ...` 表示我们不关心 `generate` 方法的返回值（因为输出会通过 `streamer` 打印）。\n",
    "_ = model.generate(**inputs, streamer = text_streamer, max_new_tokens = 128)\n"
   ]
  },
  {
   "cell_type": "code",
   "execution_count": 16,
   "id": "32ab8f57-9423-4816-a186-4cdb0f13a517",
   "metadata": {},
   "outputs": [],
   "source": [
    "if False: # 这个 'if False:' 块表示其中的代码当前不会被执行。\n",
    "          # 它是作为一种替代方案或演示，强烈不建议使用此方法，如果可能的话请优先使用 Unsloth 的方法。\n",
    "    from peft import AutoPeftModelForCausalLM # 从 peft 库导入 AutoPeftModelForCausalLM，用于自动加载 LoRA 微调过的因果语言模型。\n",
    "    from transformers import AutoTokenizer # 从 transformers 库导入 AutoTokenizer，用于自动加载与模型对应的分词器。\n",
    "\n",
    "    model = AutoPeftModelForCausalLM.from_pretrained(\n",
    "        \"lora_model\", # 你用于训练的模型路径（例如，保存 LoRA 适配器的目录）。\n",
    "        load_in_4bit = load_in_4bit, # 以4比特量化方式加载模型，与训练时保持一致以节省显存。\n",
    "    )\n",
    "    tokenizer = AutoTokenizer.from_pretrained(\"lora_model\") # 从相同的路径加载与模型对应的分词器。\n"
   ]
  },
  {
   "cell_type": "code",
   "execution_count": 17,
   "id": "15a1b387-5334-4b1d-9f83-70331c960e4f",
   "metadata": {},
   "outputs": [],
   "source": [
    "# Merge to 16bit\n",
    "if False: model.save_pretrained_merged(\"model\", tokenizer, save_method = \"merged_16bit\",)\n",
    "if False: model.push_to_hub_merged(\"hf/model\", tokenizer, save_method = \"merged_16bit\", token = \"\")\n",
    "\n",
    "# Merge to 4bit\n",
    "if False: model.save_pretrained_merged(\"model\", tokenizer, save_method = \"merged_4bit\",)\n",
    "if False: model.push_to_hub_merged(\"hf/model\", tokenizer, save_method = \"merged_4bit\", token = \"\")\n",
    "\n",
    "# Just LoRA adapters\n",
    "if False: model.save_pretrained_merged(\"model\", tokenizer, save_method = \"lora\",)\n",
    "if False: model.push_to_hub_merged(\"hf/model\", tokenizer, save_method = \"lora\", token = \"\")"
   ]
  },
  {
   "cell_type": "code",
   "execution_count": 18,
   "id": "c5e71bba-6884-435a-a434-503b7592e77b",
   "metadata": {},
   "outputs": [],
   "source": [
    "# Save to 8bit Q8_0\n",
    "if False: model.save_pretrained_gguf(\"model\", tokenizer,)\n",
    "# Remember to go to https://huggingface.co/settings/tokens for a token!\n",
    "# And change hf to your username!\n",
    "if False: model.push_to_hub_gguf(\"hf/model\", tokenizer, token = \"\")\n",
    "\n",
    "# Save to 16bit GGUF\n",
    "if False: model.save_pretrained_gguf(\"model\", tokenizer, quantization_method = \"f16\")\n",
    "if False: model.push_to_hub_gguf(\"hf/model\", tokenizer, quantization_method = \"f16\", token = \"\")\n",
    "\n",
    "# Save to q4_k_m GGUF\n",
    "if False: model.save_pretrained_gguf(\"model\", tokenizer, quantization_method = \"q4_k_m\")\n",
    "if False: model.push_to_hub_gguf(\"hf/model\", tokenizer, quantization_method = \"q4_k_m\", token = \"\")\n",
    "\n",
    "# Save to multiple GGUF options - much faster if you want multiple!\n",
    "if False:\n",
    "    model.push_to_hub_gguf(\n",
    "        \"hf/model\", # Change hf to your username!\n",
    "        tokenizer,\n",
    "        quantization_method = [\"q4_k_m\", \"q8_0\", \"q5_k_m\",],\n",
    "        token = \"\", # Get a token at https://huggingface.co/settings/tokens\n",
    "    )"
   ]
  },
  {
   "cell_type": "code",
   "execution_count": null,
   "id": "b431f3cb-6cee-4064-8c44-1efab32dca09",
   "metadata": {},
   "outputs": [],
   "source": []
  }
 ],
 "metadata": {
  "kernelspec": {
   "display_name": "myconda",
   "language": "python",
   "name": "myconda"
  },
  "language_info": {
   "codemirror_mode": {
    "name": "ipython",
    "version": 3
   },
   "file_extension": ".py",
   "mimetype": "text/x-python",
   "name": "python",
   "nbconvert_exporter": "python",
   "pygments_lexer": "ipython3",
   "version": "3.12.4"
  }
 },
 "nbformat": 4,
 "nbformat_minor": 5
}
